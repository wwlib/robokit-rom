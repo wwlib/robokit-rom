{
 "cells": [
  {
   "cell_type": "code",
   "execution_count": 1,
   "metadata": {},
   "outputs": [
    {
     "data": {
      "text/plain": [
       "{}"
      ]
     },
     "execution_count": 1,
     "metadata": {},
     "output_type": "execute_result"
    }
   ],
   "source": [
    "import {\n",
    "    Account as JiboAccount,\n",
    "    AccountCreds as JiboAccountCreds,\n",
    "    Robot as JiboRobotConnection\n",
    "} from '@jibo/apptoolkit-library';"
   ]
  },
  {
   "cell_type": "code",
   "execution_count": 12,
   "metadata": {},
   "outputs": [
    {
     "data": {
      "text/plain": [
       "undefined"
      ]
     },
     "execution_count": 12,
     "metadata": {},
     "output_type": "execute_result"
    }
   ],
   "source": [
    "import { CommandRequester } from '@jibo/command-requester';"
   ]
  },
  {
   "cell_type": "code",
   "execution_count": 5,
   "metadata": {},
   "outputs": [
    {
     "data": {
      "text/plain": [
       "[Function: Account]"
      ]
     },
     "execution_count": 5,
     "metadata": {},
     "output_type": "execute_result"
    }
   ],
   "source": [
    "JiboAccount"
   ]
  },
  {
   "cell_type": "code",
   "execution_count": 4,
   "metadata": {},
   "outputs": [
    {
     "data": {
      "text/plain": [
       "[Function: Robot]"
      ]
     },
     "execution_count": 4,
     "metadata": {},
     "output_type": "execute_result"
    }
   ],
   "source": [
    "JiboRobotConnection"
   ]
  },
  {
   "cell_type": "code",
   "execution_count": 13,
   "metadata": {},
   "outputs": [
    {
     "data": {
      "text/plain": [
       "{ [Function: CommandRequester]\n",
       "  listen: { HotWord: { HEY_JIBO: 'hey jibo' } },\n",
       "  media: \n",
       "   { Camera: { left: 'Left', right: 'Right' },\n",
       "     CameraResolution: \n",
       "      { high: 'highRes',\n",
       "        med: 'medRes',\n",
       "        low: 'lowRes',\n",
       "        micro: 'microRes' },\n",
       "     VideoType: { normal: 'NORMAL', debug: 'DEBUG' } },\n",
       "  expression: \n",
       "   { AttentionMode: \n",
       "      { Off: 'OFF',\n",
       "        Idle: 'IDLE',\n",
       "        Disengage: 'DISENGAGE',\n",
       "        Engaged: 'ENGAGED',\n",
       "        Speaking: 'SPEAKING',\n",
       "        Fixated: 'FIXATED',\n",
       "        Attractable: 'ATTRACTABLE',\n",
       "        Menu: 'MENU',\n",
       "        Command: 'COMMAND' } },\n",
       "  display: \n",
       "   { ScreenGestureType: \n",
       "      { Tap: 'TAP',\n",
       "        SwipeUp: 'SWIPEUP',\n",
       "        SwipeDown: 'SWIPEDOWN',\n",
       "        SwipeLeft: 'SWIPELEFT',\n",
       "        SwipeRight: 'SWIPERIGHT' } } }"
      ]
     },
     "execution_count": 13,
     "metadata": {},
     "output_type": "execute_result"
    }
   ],
   "source": [
    "CommandRequester"
   ]
  },
  {
   "cell_type": "code",
   "execution_count": 10,
   "metadata": {},
   "outputs": [
    {
     "data": {
      "text/plain": [
       "undefined"
      ]
     },
     "execution_count": 10,
     "metadata": {},
     "output_type": "execute_result"
    }
   ],
   "source": [
    "let creds: JiboAccountCreds = {\n",
    "    clientId: '',\n",
    "    clientSecret: '',\n",
    "    email: '',\n",
    "    password: '',\n",
    "}"
   ]
  },
  {
   "cell_type": "code",
   "execution_count": 11,
   "metadata": {},
   "outputs": [
    {
     "data": {
      "text/plain": [
       "{ clientId: '', clientSecret: '', email: '', password: '' }"
      ]
     },
     "execution_count": 11,
     "metadata": {},
     "output_type": "execute_result"
    }
   ],
   "source": [
    "creds"
   ]
  },
  {
   "cell_type": "code",
   "execution_count": null,
   "metadata": {},
   "outputs": [],
   "source": []
  }
 ],
 "metadata": {
  "kernelspec": {
   "display_name": "Typescript 3.8",
   "language": "typescript",
   "name": "typescript"
  },
  "language_info": {
   "file_extension": ".ts",
   "mimetype": "application/x-typescript",
   "name": "typescript",
   "version": "3.8.3"
  }
 },
 "nbformat": 4,
 "nbformat_minor": 2
}
