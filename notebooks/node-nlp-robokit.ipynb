{
 "cells": [
  {
   "cell_type": "code",
   "execution_count": null,
   "metadata": {},
   "outputs": [],
   "source": [
    "let { NlpManager } = require('node-nlp');"
   ]
  },
  {
   "cell_type": "code",
   "execution_count": 26,
   "metadata": {},
   "outputs": [
    {
     "data": {
      "text/plain": [
       "[Function: NlpManager]"
      ]
     },
     "execution_count": 26,
     "metadata": {},
     "output_type": "execute_result"
    }
   ],
   "source": [
    "NlpManager"
   ]
  },
  {
   "cell_type": "code",
   "execution_count": 83,
   "metadata": {},
   "outputs": [
    {
     "name": "stdout",
     "output_type": "stream",
     "text": [
      "true\n"
     ]
    }
   ],
   "source": [
    "manager = new NlpManager({ languages: ['en'] });\n",
    "console.log(!!manager);"
   ]
  },
  {
   "cell_type": "markdown",
   "metadata": {},
   "source": [
    "### Try loading an existing model"
   ]
  },
  {
   "cell_type": "code",
   "execution_count": 85,
   "metadata": {},
   "outputs": [],
   "source": [
    "try {\n",
    "    manager.load('model.nlp');\n",
    "} catch (err) {\n",
    "    console.log(err);\n",
    "}"
   ]
  },
  {
   "cell_type": "markdown",
   "metadata": {},
   "source": [
    "### Or generate a model at runtime"
   ]
  },
  {
   "cell_type": "code",
   "execution_count": 71,
   "metadata": {},
   "outputs": [],
   "source": [
    "manager.addDocument('en', \"what time is it\", 'launchClock');\n",
    "manager.addDocument('en', \"what is the time\", 'launchClock');\n",
    "manager.addDocument('en', \"what's the time\", 'launchClock');\n",
    "manager.addDocument('en', \"tell me a joke\", 'launchJoke');\n",
    "manager.addDocument('en', \"tell us a joke\", 'launchJoke');\n",
    "manager.addDocument('en', \"do you know any jokes\", 'launchJoke');\n",
    "manager.addDocument('en', \"let's hear a joke\", 'launchJoke');\n",
    "manager.addDocument('en', \"who are you\", 'launchIdent');\n",
    "manager.addDocument('en', \"what is your name\", 'launchIdent');\n",
    "manager.addDocument('en', \"what's your name\", 'launchIdent');\n",
    "manager.addDocument('en', \"track my face\", 'launchFaces');\n",
    "manager.addDocument('en', \"watch my face\", 'launchFaces');\n",
    "manager.addDocument('en', \"watch me\", 'launchFaces');\n",
    "manager.addDocument('en', \"track my face\", 'launchFaces');\n",
    "manager.addDocument('en', \"give me a status report\", 'launchStatus');\n",
    "manager.addDocument('en', \"what is your status\", 'launchStatus');\n",
    "manager.addDocument('en', \"what's your status\", 'launchStatus');\n",
    "manager.addDocument('en', \"it's andrew\", 'launchGreeting');\n",
    "manager.addDocument('en', \"it's me, martin\", 'launchGreeting');\n",
    "\n",
    "// manager.nlp.addNerRuleOptionTexts('en', 'user', 'Andrew', 'andrew');\n",
    "// manager.nlp.addNerRuleOptionTexts('en', 'user', 'Martin', 'martin');\n",
    "// manager.nlp.addNerRuleOptionTexts('en', 'user', 'Jesus', 'jesus');\n",
    "// manager.nlp.addNerRuleOptionTexts('en', 'user', 'Rick', 'rick');\n",
    "\n",
    "manager.addNamedEntityText('user', 'Andrew', ['en'], ['Andrew', 'Andy']);\n",
    "manager.addNamedEntityText('user', 'Martin', ['en'], ['Martin']);\n",
    "manager.addNamedEntityText('user', 'Jesus', ['en'], ['Jesus']);\n"
   ]
  },
  {
   "cell_type": "code",
   "execution_count": 72,
   "metadata": {},
   "outputs": [
    {
     "name": "stdout",
     "output_type": "stream",
     "text": [
      "Epoch 1 loss 0.13156164959190148 time 0ms\n",
      "Epoch 2 loss 0.05372500270814982 time 0ms\n",
      "Epoch 3 loss 0.024804394931308364 time 0ms\n",
      "Epoch 4 loss 0.013756686377655378 time 0ms\n",
      "Epoch 5 loss 0.008472443424995155 time 0ms\n",
      "Epoch 6 loss 0.005654164653293785 time 0ms\n",
      "Epoch 7 loss 0.003952311394051101 time 0ms\n",
      "Epoch 8 loss 0.0028884509344295887 time 0ms\n",
      "Epoch 9 loss 0.0021634984128069087 time 0ms\n",
      "Epoch 10 loss 0.0016580802193529223 time 0ms\n",
      "Epoch 11 loss 0.0012922805143498032 time 0ms\n",
      "Epoch 12 loss 0.0010206240504018339 time 0ms\n",
      "Epoch 13 loss 0.0008157672105674966 time 0ms\n",
      "Epoch 14 loss 0.000658594001189701 time 0ms\n",
      "Epoch 15 loss 0.0005364558347480937 time 1ms\n",
      "Epoch 16 loss 0.0004403648200095132 time 0ms\n",
      "Epoch 17 loss 0.0003640056057659194 time 0ms\n",
      "Epoch 18 loss 0.0003027744786659536 time 0ms\n",
      "Epoch 19 loss 0.00025325633694652894 time 0ms\n",
      "Epoch 20 loss 0.00021291089207139307 time 0ms\n",
      "Epoch 21 loss 0.0001798059954348106 time 1ms\n",
      "Epoch 22 loss 0.00015246552074416926 time 0ms\n",
      "Epoch 23 loss 0.00012975323695754417 time 0ms\n",
      "Epoch 24 loss 0.00011078484567971984 time 0ms\n",
      "Epoch 25 loss 0.00009486400959722886 time 0ms\n",
      "Epoch 26 loss 0.00008144275952435797 time 0ms\n",
      "Epoch 27 loss 0.00007008270997047356 time 0ms\n",
      "Epoch 28 loss 0.00006043267269549998 time 0ms\n",
      "Epoch 29 loss 0.00005220749151225916 time 1ms\n",
      "Epoch 30 loss 0.00004517615954585651 time 0ms\n",
      "{ locale: 'en',\n",
      "  utterance: 'who are you',\n",
      "  languageGuessed: false,\n",
      "  localeIso2: 'en',\n",
      "  language: 'English',\n",
      "  classifications: \n",
      "   [ { intent: 'launchIdent', score: 1 },\n",
      "     { intent: 'launchClock', score: 0 },\n",
      "     { intent: 'launchJoke', score: 0 },\n",
      "     { intent: 'launchIdent', score: 0 },\n",
      "     { intent: 'launchFaces', score: 0 },\n",
      "     { intent: 'launchStatus', score: 0 },\n",
      "     { intent: 'launchGreeting', score: 0 } ],\n",
      "  intent: 'launchIdent',\n",
      "  score: 1,\n",
      "  domain: 'default',\n",
      "  sourceEntities: [],\n",
      "  entities: [],\n",
      "  answers: [],\n",
      "  answer: undefined,\n",
      "  actions: [],\n",
      "  sentiment: \n",
      "   { score: 0,\n",
      "     numWords: 3,\n",
      "     numHits: 0,\n",
      "     average: 0,\n",
      "     type: 'senticon',\n",
      "     locale: 'en',\n",
      "     vote: 'neutral' } }\n"
     ]
    }
   ],
   "source": [
    "(async() => {\n",
    "    await manager.train();\n",
    "    const response = await manager.process('en', 'who are you');\n",
    "    console.log(response);\n",
    "})();"
   ]
  },
  {
   "cell_type": "markdown",
   "metadata": {},
   "source": [
    "### Save the generated model"
   ]
  },
  {
   "cell_type": "code",
   "execution_count": null,
   "metadata": {},
   "outputs": [],
   "source": [
    "manager.save('model.nlp');"
   ]
  },
  {
   "cell_type": "markdown",
   "metadata": {},
   "source": [
    "### Test the model"
   ]
  },
  {
   "cell_type": "code",
   "execution_count": 86,
   "metadata": {},
   "outputs": [
    {
     "name": "stdout",
     "output_type": "stream",
     "text": [
      "launchGreeting\n",
      "[ { start: 5,\n",
      "    end: 10,\n",
      "    len: 6,\n",
      "    levenshtein: 0,\n",
      "    accuracy: 1,\n",
      "    entity: 'user',\n",
      "    type: 'enum',\n",
      "    option: 'Andrew',\n",
      "    sourceText: 'Andrew',\n",
      "    utteranceText: 'andrew' } ]\n"
     ]
    }
   ],
   "source": [
    "manager.process('en', \"It's andrew\").then(result => {\n",
    "    console.log(result.intent);\n",
    "    console.log(result.entities);\n",
    "})"
   ]
  },
  {
   "cell_type": "code",
   "execution_count": 74,
   "metadata": {},
   "outputs": [
    {
     "name": "stdout",
     "output_type": "stream",
     "text": [
      "launchGreeting\n",
      "Jesus\n"
     ]
    }
   ],
   "source": [
    "manager.process('en', \"It's me, jesus\").then(result => {\n",
    "    console.log(result.intent);\n",
    "    console.log(result.entities[0].option);\n",
    "})"
   ]
  },
  {
   "cell_type": "code",
   "execution_count": 75,
   "metadata": {},
   "outputs": [
    {
     "name": "stdout",
     "output_type": "stream",
     "text": [
      "None\n",
      "Martin\n"
     ]
    }
   ],
   "source": [
    "manager.process('en', \"Please call martin\").then(result => {\n",
    "    console.log(result.intent);\n",
    "    console.log(result.entities[0].option);\n",
    "})"
   ]
  },
  {
   "cell_type": "code",
   "execution_count": 30,
   "metadata": {},
   "outputs": [
    {
     "name": "stdout",
     "output_type": "stream",
     "text": [
      "launchIdent\n"
     ]
    }
   ],
   "source": [
    "manager.process('en', \"what's your name\").then(result => {\n",
    "    console.log(result.intent);\n",
    "})"
   ]
  },
  {
   "cell_type": "code",
   "execution_count": 31,
   "metadata": {},
   "outputs": [
    {
     "name": "stdout",
     "output_type": "stream",
     "text": [
      "launchStatus\n"
     ]
    }
   ],
   "source": [
    "manager.process('en', \"what's your status\").then(result => {\n",
    "    console.log(result.intent);\n",
    "})"
   ]
  },
  {
   "cell_type": "code",
   "execution_count": 65,
   "metadata": {},
   "outputs": [
    {
     "name": "stdout",
     "output_type": "stream",
     "text": [
      "launchClock\n"
     ]
    }
   ],
   "source": [
    "manager.process('en', \"what is the time\").then(result => {\n",
    "    console.log(result.intent);\n",
    "})"
   ]
  },
  {
   "cell_type": "code",
   "execution_count": 80,
   "metadata": {},
   "outputs": [
    {
     "name": "stdout",
     "output_type": "stream",
     "text": [
      "{ Error: ENOENT: no such file or directory, open 'model.nlpx'\n",
      "    at Object.fs.openSync (fs.js:646:18)\n",
      "    at Object.fs.readFileSync (fs.js:551:33)\n",
      "    at NlpManager.load (/Users/andrewrapo/github/wwlib/robokit-rom/node_modules/node-nlp/src/nlp/nlp-manager.js:260:21)\n",
      "    at evalmachine.<anonymous>:2:13\n",
      "    at ContextifyScript.Script.runInThisContext (vm.js:50:33)\n",
      "    at Object.runInThisContext (vm.js:139:38)\n",
      "    at run ([eval]:1002:15)\n",
      "    at onRunRequest ([eval]:829:18)\n",
      "    at onMessage ([eval]:789:13)\n",
      "    at emitTwo (events.js:126:13) errno: -2, code: 'ENOENT', syscall: 'open', path: 'model.nlpx' }\n"
     ]
    }
   ],
   "source": [
    "try {\n",
    "    manager.load('model.nlpx');\n",
    "} catch (err) {\n",
    "    console.log(err);\n",
    "}\n"
   ]
  },
  {
   "cell_type": "code",
   "execution_count": null,
   "metadata": {},
   "outputs": [],
   "source": []
  }
 ],
 "metadata": {
  "kernelspec": {
   "display_name": "Javascript (Node.js)",
   "language": "javascript",
   "name": "javascript"
  },
  "language_info": {
   "file_extension": ".js",
   "mimetype": "application/javascript",
   "name": "javascript",
   "version": "8.12.0"
  }
 },
 "nbformat": 4,
 "nbformat_minor": 2
}
